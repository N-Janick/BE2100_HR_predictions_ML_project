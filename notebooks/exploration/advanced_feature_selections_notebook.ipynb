{
 "cells": [
  {
   "cell_type": "code",
   "execution_count": null,
   "id": "f937f7c5",
   "metadata": {},
   "outputs": [],
   "source": [
    "import numpy as np\n",
    "import pandas as pd \n",
    "from matplotlib.pyplot import subplots\n",
    "from statsmodels.api import OLS\n",
    "import sklearn.model_selection as skm\n",
    "import sklearn.linear_model as skl\n",
    "from sklearn.preprocessing import StandardScaler\n",
    "from ISLP import load_data\n",
    "from ISLP.models import ModelSpec as MS\n",
    "from functools import partial"
   ]
  },
  {
   "cell_type": "code",
   "execution_count": null,
   "id": "23a75963",
   "metadata": {},
   "outputs": [
    {
     "name": "stdout",
     "output_type": "stream",
     "text": [
      "Collecting l0bnb\n",
      "  Downloading l0bnb-1.0.0.tar.gz (79 kB)\n",
      "  Installing build dependencies: started\n",
      "  Installing build dependencies: finished with status 'done'\n",
      "  Getting requirements to build wheel: started\n",
      "  Getting requirements to build wheel: finished with status 'done'\n",
      "  Preparing metadata (pyproject.toml): started\n",
      "  Preparing metadata (pyproject.toml): finished with status 'done'\n",
      "Requirement already satisfied: numpy>=1.18.1 in c:\\users\\nick_\\appdata\\local\\packages\\pythonsoftwarefoundation.python.3.10_qbz5n2kfra8p0\\localcache\\local-packages\\python310\\site-packages (from l0bnb) (1.26.4)\n",
      "Requirement already satisfied: scipy>=1.4.1 in c:\\users\\nick_\\appdata\\local\\packages\\pythonsoftwarefoundation.python.3.10_qbz5n2kfra8p0\\localcache\\local-packages\\python310\\site-packages (from l0bnb) (1.11.4)\n",
      "Collecting numba>=0.53.1 (from l0bnb)\n",
      "  Downloading numba-0.61.2-cp310-cp310-win_amd64.whl.metadata (2.9 kB)\n",
      "Collecting llvmlite<0.45,>=0.44.0dev0 (from numba>=0.53.1->l0bnb)\n",
      "  Downloading llvmlite-0.44.0-cp310-cp310-win_amd64.whl.metadata (5.0 kB)\n",
      "Downloading numba-0.61.2-cp310-cp310-win_amd64.whl (2.8 MB)\n",
      "   ---------------------------------------- 0.0/2.8 MB ? eta -:--:--\n",
      "   ---------------------------------------- 2.8/2.8 MB 23.4 MB/s eta 0:00:00\n",
      "Downloading llvmlite-0.44.0-cp310-cp310-win_amd64.whl (30.3 MB)\n",
      "   ---------------------------------------- 0.0/30.3 MB ? eta -:--:--\n",
      "   ----- ---------------------------------- 4.2/30.3 MB 25.2 MB/s eta 0:00:02\n",
      "   ------------ --------------------------- 9.7/30.3 MB 24.2 MB/s eta 0:00:01\n",
      "   -------------------- ------------------- 15.7/30.3 MB 26.1 MB/s eta 0:00:01\n",
      "   ---------------------------- ----------- 21.8/30.3 MB 26.5 MB/s eta 0:00:01\n",
      "   ------------------------------------ --- 27.8/30.3 MB 26.7 MB/s eta 0:00:01\n",
      "   ---------------------------------------- 30.3/30.3 MB 25.3 MB/s eta 0:00:00\n",
      "Building wheels for collected packages: l0bnb\n",
      "  Building wheel for l0bnb (pyproject.toml): started\n",
      "  Building wheel for l0bnb (pyproject.toml): finished with status 'done'\n",
      "  Created wheel for l0bnb: filename=l0bnb-1.0.0-py3-none-any.whl size=22406 sha256=3e0d83352aac4599123203fa7889728a711ce0fd0ed2ec975a42e19d7afade2a\n",
      "  Stored in directory: c:\\users\\nick_\\appdata\\local\\packages\\pythonsoftwarefoundation.python.3.10_qbz5n2kfra8p0\\localcache\\local\\pip\\cache\\wheels\\db\\c7\\a3\\a2e42159dcc85eeb004a84772e1884c45f88d43fac0075de19\n",
      "Successfully built l0bnb\n",
      "Installing collected packages: llvmlite, numba, l0bnb\n",
      "Successfully installed l0bnb-1.0.0 llvmlite-0.44.0 numba-0.61.2\n"
     ]
    }
   ],
   "source": [
    "from sklearn.pipeline import Pipeline\n",
    "from sklearn.decomposition import PCA\n",
    "from sklearn.cross_decomposition import PLSRegression\n",
    "from ISLP.models import \\\n",
    "    (Stepwise,\n",
    "    sklearn_selected,\n",
    "    sklearn_selection_path)\n",
    "%pip install l0bnb\n",
    "from l0bnb import fit_path"
   ]
  },
  {
   "cell_type": "code",
   "execution_count": 16,
   "id": "03c56fdc",
   "metadata": {},
   "outputs": [],
   "source": [
    "players = pd.read_csv('../../data/processed/combined_player_stats.csv')\n",
    "players.drop(columns=['Name', 'Name.1', 'Team', 'Team.1', 'NameASCII','PlayerId','MLBAMID'], inplace=True)\n",
    "np.isnan(players['HR']).sum()\n",
    "players.dropna(ignore_index=True, inplace=True)"
   ]
  },
  {
   "cell_type": "markdown",
   "id": "cee3c3c5",
   "metadata": {},
   "source": [
    "No missing homeruns from dataset."
   ]
  },
  {
   "cell_type": "code",
   "execution_count": 17,
   "id": "85684295",
   "metadata": {},
   "outputs": [],
   "source": [
    "# from \"An Introduction to statistical learning\" page 268\n",
    "# function to calculate negative Cp.\n",
    "# Cp score used for forwrd-selection stepwise methods\n",
    "# \n",
    "def nCp(sigma2, estimator, X, Y):\n",
    "    \"Negative Cp statistic\"\n",
    "    n, p = X.shape\n",
    "    Yhat = estimator.predict(X)\n",
    "    RSS = np.sum((Y - Yhat)**2)\n",
    "    return -(RSS + 2 * p * sigma2) / n"
   ]
  },
  {
   "cell_type": "code",
   "execution_count": 18,
   "id": "d5b72ca3",
   "metadata": {},
   "outputs": [],
   "source": [
    "design = MS(players.columns.drop('HR')).fit(players)\n",
    "Y = np.array(players['HR'])\n",
    "X = design.transform(players)\n",
    "sigma2 = OLS(Y,X).fit().scale"
   ]
  },
  {
   "cell_type": "code",
   "execution_count": 19,
   "id": "30810afc",
   "metadata": {},
   "outputs": [],
   "source": [
    "neg_Cp = partial(nCp, sigma2)"
   ]
  },
  {
   "cell_type": "markdown",
   "id": "f7e7f6a4",
   "metadata": {},
   "source": [
    "neg_Cp can now be used with sklearn as a scorer for model selection. Next we will specify the search strategy"
   ]
  },
  {
   "cell_type": "code",
   "execution_count": 23,
   "id": "00b247b9",
   "metadata": {},
   "outputs": [],
   "source": [
    "strategy = Stepwise.first_peak(design,\n",
    "                               direction='forward',\n",
    "                               max_terms = len(design.terms))"
   ]
  },
  {
   "cell_type": "markdown",
   "id": "6c2faab0",
   "metadata": {},
   "source": [
    "Next fit a linear regression model with HR as the outcome using forward selection."
   ]
  },
  {
   "cell_type": "code",
   "execution_count": 24,
   "id": "87b95302",
   "metadata": {},
   "outputs": [
    {
     "data": {
      "text/plain": [
       "('1B', '2B', '3B', 'Barrels', 'H', 'RBI', 'wRC')"
      ]
     },
     "execution_count": 24,
     "metadata": {},
     "output_type": "execute_result"
    }
   ],
   "source": [
    "players_MSE = sklearn_selected(OLS,\n",
    "                               strategy)\n",
    "players_MSE.fit(players, Y)\n",
    "players_MSE.selected_state_"
   ]
  },
  {
   "cell_type": "markdown",
   "id": "bf3c7322",
   "metadata": {},
   "source": []
  },
  {
   "cell_type": "code",
   "execution_count": 25,
   "id": "ecb91ec3",
   "metadata": {},
   "outputs": [
    {
     "data": {
      "text/plain": [
       "('1B', '2B', '3B', 'Barrels', 'H', 'RBI', 'wRC')"
      ]
     },
     "execution_count": 25,
     "metadata": {},
     "output_type": "execute_result"
    }
   ],
   "source": [
    "players_Cp = sklearn_selected(OLS,\n",
    "                               strategy,\n",
    "                               scoring = neg_Cp)\n",
    "players_Cp.fit(players, Y)\n",
    "players_Cp.selected_state_"
   ]
  },
  {
   "cell_type": "markdown",
   "id": "cd94c038",
   "metadata": {},
   "source": []
  },
  {
   "cell_type": "code",
   "execution_count": 26,
   "id": "956ab438",
   "metadata": {},
   "outputs": [],
   "source": [
    "strategy = Stepwise.fixed_steps(design,\n",
    "                               len(design.terms),\n",
    "                               direction='forward')\n",
    "full_path = sklearn_selection_path(OLS, strategy)"
   ]
  },
  {
   "cell_type": "markdown",
   "id": "71fac691",
   "metadata": {},
   "source": []
  },
  {
   "cell_type": "code",
   "execution_count": 27,
   "id": "58c763d8",
   "metadata": {},
   "outputs": [
    {
     "data": {
      "text/plain": [
       "(5443, 81)"
      ]
     },
     "execution_count": 27,
     "metadata": {},
     "output_type": "execute_result"
    }
   ],
   "source": [
    "full_path.fit(players, Y)\n",
    "Yhat_in = full_path.predict(players)\n",
    "Yhat_in.shape"
   ]
  },
  {
   "cell_type": "markdown",
   "id": "03517766",
   "metadata": {},
   "source": []
  },
  {
   "cell_type": "code",
   "execution_count": 33,
   "id": "a9adadce",
   "metadata": {},
   "outputs": [
    {
     "data": {
      "text/plain": [
       "(0.0, 50.0)"
      ]
     },
     "execution_count": 33,
     "metadata": {},
     "output_type": "execute_result"
    },
    {
     "data": {
      "image/png": "[encoded data removed]",
      "text/plain": [
       "<Figure size 1200x800 with 1 Axes>"
      ]
     },
     "metadata": {},
     "output_type": "display_data"
    }
   ],
   "source": [
    "mse_fid, ax = subplots(figsize = (12,8))\n",
    "insample_mse = ((Yhat_in - Y[:, None])**2).mean(0)\n",
    "n_steps = insample_mse.shape[0]\n",
    "ax.plot(np.arange(n_steps),\n",
    "        insample_mse,\n",
    "        'k', \n",
    "        label = 'In-sample')\n",
    "ax.set_ylabel('MSE',\n",
    "               fontsize=20)\n",
    "ax.set_xlabel('# steps of forward stepwise',\n",
    "              fontsize=20)\n",
    "ax.set_xticks(np.arange(n_steps)[::2])\n",
    "ax.legend()\n",
    "ax.set_ylim([0,50])"
   ]
  },
  {
   "cell_type": "markdown",
   "id": "0da55685",
   "metadata": {},
   "source": [
    "Because the HR are tied so closely to the rest of the stats, using current season stats with out home runs to predict home runs over fits the data, there is too much colinearity I believe. \n",
    "\n",
    "$ PA = 1B + 2B + 3B + HR + "
   ]
  },
  {
   "cell_type": "code",
   "execution_count": null,
   "id": "1ca02b0a",
   "metadata": {},
   "outputs": [],
   "source": []
  }
 ],
 "metadata": {
  "kernelspec": {
   "display_name": "Python 3",
   "language": "python",
   "name": "python3"
  },
  "language_info": {
   "codemirror_mode": {
    "name": "ipython",
    "version": 3
   },
   "file_extension": ".py",
   "mimetype": "text/x-python",
   "name": "python",
   "nbconvert_exporter": "python",
   "pygments_lexer": "ipython3",
   "version": "3.10.11"
  }
 },
 "nbformat": 4,
 "nbformat_minor": 5
}
